{
  "nbformat": 4,
  "nbformat_minor": 0,
  "metadata": {
    "colab": {
      "provenance": [],
      "authorship_tag": "ABX9TyN95Ag/m9id0l9uUmHOS6VA",
      "include_colab_link": true
    },
    "kernelspec": {
      "name": "python3",
      "display_name": "Python 3"
    },
    "language_info": {
      "name": "python"
    }
  },
  "cells": [
    {
      "cell_type": "markdown",
      "metadata": {
        "id": "view-in-github",
        "colab_type": "text"
      },
      "source": [
        "<a href=\"https://colab.research.google.com/github/gleicekelly13/logica-de-programacao-Uninter/blob/main/teste_imers%C3%A3o_Alura.ipynb\" target=\"_parent\"><img src=\"https://colab.research.google.com/assets/colab-badge.svg\" alt=\"Open In Colab\"/></a>"
      ]
    },
    {
      "cell_type": "code",
      "execution_count": 1,
      "metadata": {
        "colab": {
          "base_uri": "https://localhost:8080/"
        },
        "id": "OnYtAO-xfvGR",
        "outputId": "e9e9038f-fdbc-42c1-eca6-2c00e82ef4f2"
      },
      "outputs": [
        {
          "output_type": "stream",
          "name": "stdout",
          "text": [
            "Requirement already satisfied: google-genai in /usr/local/lib/python3.11/dist-packages (1.15.0)\n",
            "Requirement already satisfied: anyio<5.0.0,>=4.8.0 in /usr/local/lib/python3.11/dist-packages (from google-genai) (4.9.0)\n",
            "Requirement already satisfied: google-auth<3.0.0,>=2.14.1 in /usr/local/lib/python3.11/dist-packages (from google-genai) (2.38.0)\n",
            "Requirement already satisfied: httpx<1.0.0,>=0.28.1 in /usr/local/lib/python3.11/dist-packages (from google-genai) (0.28.1)\n",
            "Requirement already satisfied: pydantic<3.0.0,>=2.0.0 in /usr/local/lib/python3.11/dist-packages (from google-genai) (2.11.4)\n",
            "Requirement already satisfied: requests<3.0.0,>=2.28.1 in /usr/local/lib/python3.11/dist-packages (from google-genai) (2.32.3)\n",
            "Requirement already satisfied: websockets<15.1.0,>=13.0.0 in /usr/local/lib/python3.11/dist-packages (from google-genai) (15.0.1)\n",
            "Requirement already satisfied: typing-extensions<5.0.0,>=4.11.0 in /usr/local/lib/python3.11/dist-packages (from google-genai) (4.13.2)\n",
            "Requirement already satisfied: idna>=2.8 in /usr/local/lib/python3.11/dist-packages (from anyio<5.0.0,>=4.8.0->google-genai) (3.10)\n",
            "Requirement already satisfied: sniffio>=1.1 in /usr/local/lib/python3.11/dist-packages (from anyio<5.0.0,>=4.8.0->google-genai) (1.3.1)\n",
            "Requirement already satisfied: cachetools<6.0,>=2.0.0 in /usr/local/lib/python3.11/dist-packages (from google-auth<3.0.0,>=2.14.1->google-genai) (5.5.2)\n",
            "Requirement already satisfied: pyasn1-modules>=0.2.1 in /usr/local/lib/python3.11/dist-packages (from google-auth<3.0.0,>=2.14.1->google-genai) (0.4.2)\n",
            "Requirement already satisfied: rsa<5,>=3.1.4 in /usr/local/lib/python3.11/dist-packages (from google-auth<3.0.0,>=2.14.1->google-genai) (4.9.1)\n",
            "Requirement already satisfied: certifi in /usr/local/lib/python3.11/dist-packages (from httpx<1.0.0,>=0.28.1->google-genai) (2025.4.26)\n",
            "Requirement already satisfied: httpcore==1.* in /usr/local/lib/python3.11/dist-packages (from httpx<1.0.0,>=0.28.1->google-genai) (1.0.9)\n",
            "Requirement already satisfied: h11>=0.16 in /usr/local/lib/python3.11/dist-packages (from httpcore==1.*->httpx<1.0.0,>=0.28.1->google-genai) (0.16.0)\n",
            "Requirement already satisfied: annotated-types>=0.6.0 in /usr/local/lib/python3.11/dist-packages (from pydantic<3.0.0,>=2.0.0->google-genai) (0.7.0)\n",
            "Requirement already satisfied: pydantic-core==2.33.2 in /usr/local/lib/python3.11/dist-packages (from pydantic<3.0.0,>=2.0.0->google-genai) (2.33.2)\n",
            "Requirement already satisfied: typing-inspection>=0.4.0 in /usr/local/lib/python3.11/dist-packages (from pydantic<3.0.0,>=2.0.0->google-genai) (0.4.0)\n",
            "Requirement already satisfied: charset-normalizer<4,>=2 in /usr/local/lib/python3.11/dist-packages (from requests<3.0.0,>=2.28.1->google-genai) (3.4.2)\n",
            "Requirement already satisfied: urllib3<3,>=1.21.1 in /usr/local/lib/python3.11/dist-packages (from requests<3.0.0,>=2.28.1->google-genai) (2.4.0)\n",
            "Requirement already satisfied: pyasn1<0.7.0,>=0.6.1 in /usr/local/lib/python3.11/dist-packages (from pyasn1-modules>=0.2.1->google-auth<3.0.0,>=2.14.1->google-genai) (0.6.1)\n"
          ]
        }
      ],
      "source": [
        "!pip install google-genai"
      ]
    },
    {
      "cell_type": "code",
      "source": [
        "import os\n",
        "from google.colab import userdata  # Importação da chave da API\n",
        "\n",
        "os.environ['GOOGLE_API_KEY'] = userdata.get('GOOGLE_API_KEY')  # Criação da variável de ambiente para armazenar a chave da API"
      ],
      "metadata": {
        "id": "tvUxKtTAlLR0"
      },
      "execution_count": 3,
      "outputs": []
    },
    {
      "cell_type": "code",
      "source": [
        "from google import genai  #Importação da biblioteca SDK\n",
        "\n",
        "client = genai.Client()  # Instanciação do client(cliente da SDK)"
      ],
      "metadata": {
        "id": "Ft3L8LUqnip1"
      },
      "execution_count": 4,
      "outputs": []
    },
    {
      "cell_type": "code",
      "source": [
        "for model in client.models.list():  # A variável 'client' pode rodar qualquer coisa q a API do gemini suporte\n",
        "  print(model.name) # Lista todos os nomes dos modelos do gemini que temos para uso na API"
      ],
      "metadata": {
        "colab": {
          "base_uri": "https://localhost:8080/"
        },
        "id": "LaaCBZ9dpDM3",
        "outputId": "24e28b7b-b9ab-45e7-cdfc-1739966480ab"
      },
      "execution_count": 5,
      "outputs": [
        {
          "output_type": "stream",
          "name": "stdout",
          "text": [
            "models/chat-bison-001\n",
            "models/text-bison-001\n",
            "models/embedding-gecko-001\n",
            "models/gemini-1.0-pro-vision-latest\n",
            "models/gemini-pro-vision\n",
            "models/gemini-1.5-pro-latest\n",
            "models/gemini-1.5-pro-001\n",
            "models/gemini-1.5-pro-002\n",
            "models/gemini-1.5-pro\n",
            "models/gemini-1.5-flash-latest\n",
            "models/gemini-1.5-flash-001\n",
            "models/gemini-1.5-flash-001-tuning\n",
            "models/gemini-1.5-flash\n",
            "models/gemini-1.5-flash-002\n",
            "models/gemini-1.5-flash-8b\n",
            "models/gemini-1.5-flash-8b-001\n",
            "models/gemini-1.5-flash-8b-latest\n",
            "models/gemini-1.5-flash-8b-exp-0827\n",
            "models/gemini-1.5-flash-8b-exp-0924\n",
            "models/gemini-2.5-pro-exp-03-25\n",
            "models/gemini-2.5-pro-preview-03-25\n",
            "models/gemini-2.5-flash-preview-04-17\n",
            "models/gemini-2.5-flash-preview-04-17-thinking\n",
            "models/gemini-2.5-pro-preview-05-06\n",
            "models/gemini-2.0-flash-exp\n",
            "models/gemini-2.0-flash\n",
            "models/gemini-2.0-flash-001\n",
            "models/gemini-2.0-flash-exp-image-generation\n",
            "models/gemini-2.0-flash-lite-001\n",
            "models/gemini-2.0-flash-lite\n",
            "models/gemini-2.0-flash-preview-image-generation\n",
            "models/gemini-2.0-flash-lite-preview-02-05\n",
            "models/gemini-2.0-flash-lite-preview\n",
            "models/gemini-2.0-pro-exp\n",
            "models/gemini-2.0-pro-exp-02-05\n",
            "models/gemini-exp-1206\n",
            "models/gemini-2.0-flash-thinking-exp-01-21\n",
            "models/gemini-2.0-flash-thinking-exp\n",
            "models/gemini-2.0-flash-thinking-exp-1219\n",
            "models/learnlm-2.0-flash-experimental\n",
            "models/gemma-3-1b-it\n",
            "models/gemma-3-4b-it\n",
            "models/gemma-3-12b-it\n",
            "models/gemma-3-27b-it\n",
            "models/embedding-001\n",
            "models/text-embedding-004\n",
            "models/gemini-embedding-exp-03-07\n",
            "models/gemini-embedding-exp\n",
            "models/aqa\n",
            "models/imagen-3.0-generate-002\n",
            "models/gemini-2.0-flash-live-001\n"
          ]
        }
      ]
    },
    {
      "cell_type": "code",
      "source": [
        "modelo = \"gemini-2.0-flash\"\n",
        "\n",
        "# Invoca a SDK(client), dos clients interagimos com os modelos(models) e dos modelos queremos gerar conteúdo(generate_content)\n",
        "resposta = client.models.generate_content(model=modelo, contents=\"Quem criou os modelos Gemini?\")  #Não podemos mudar os nomes dos parâmetros das funções\n",
        "\n",
        "resposta"
      ],
      "metadata": {
        "colab": {
          "base_uri": "https://localhost:8080/"
        },
        "id": "YRDQEptJrFvE",
        "outputId": "7228f45b-9dc5-4d4a-fe15-b90c40def28e"
      },
      "execution_count": 7,
      "outputs": [
        {
          "output_type": "execute_result",
          "data": {
            "text/plain": [
              "GenerateContentResponse(candidates=[Candidate(content=Content(parts=[Part(video_metadata=None, thought=None, inline_data=None, code_execution_result=None, executable_code=None, file_data=None, function_call=None, function_response=None, text='Os modelos Gemini foram criados pelo Google.\\n')], role='model'), citation_metadata=None, finish_message=None, token_count=None, finish_reason=<FinishReason.STOP: 'STOP'>, avg_logprobs=-0.07874403595924377, grounding_metadata=None, index=None, logprobs_result=None, safety_ratings=None)], create_time=None, response_id=None, model_version='gemini-2.0-flash', prompt_feedback=None, usage_metadata=GenerateContentResponseUsageMetadata(cache_tokens_details=None, cached_content_token_count=None, candidates_token_count=10, candidates_tokens_details=[ModalityTokenCount(modality=<MediaModality.TEXT: 'TEXT'>, token_count=10)], prompt_token_count=6, prompt_tokens_details=[ModalityTokenCount(modality=<MediaModality.TEXT: 'TEXT'>, token_count=6)], thoughts_token_count=None, tool_use_prompt_token_count=None, tool_use_prompt_tokens_details=None, total_token_count=16, traffic_type=None), automatic_function_calling_history=[], parsed=None)"
            ]
          },
          "metadata": {},
          "execution_count": 7
        }
      ]
    },
    {
      "cell_type": "code",
      "source": [
        "resposta.text"
      ],
      "metadata": {
        "colab": {
          "base_uri": "https://localhost:8080/",
          "height": 35
        },
        "id": "3W0KgydKtZQ5",
        "outputId": "19eba7d9-99b7-4d95-dfc5-98e2c865c282"
      },
      "execution_count": 8,
      "outputs": [
        {
          "output_type": "execute_result",
          "data": {
            "text/plain": [
              "'Os modelos Gemini foram criados pelo Google.\\n'"
            ],
            "application/vnd.google.colaboratory.intrinsic+json": {
              "type": "string"
            }
          },
          "metadata": {},
          "execution_count": 8
        }
      ]
    },
    {
      "cell_type": "code",
      "source": [
        "chat = client.chats.create(model=modelo)  # Criação do objeto 'chat'\n",
        "\n",
        "resposta = chat.send_message(\"Olá, tudo bem?\")  # Envia uma mensagem para o chat que acabou de ser criado\n",
        "\n",
        "resposta.text"
      ],
      "metadata": {
        "colab": {
          "base_uri": "https://localhost:8080/",
          "height": 35
        },
        "id": "fgY3tGZ_7Bpk",
        "outputId": "7f19b407-68b2-4a73-83a8-fbc8dd3b323f"
      },
      "execution_count": 10,
      "outputs": [
        {
          "output_type": "execute_result",
          "data": {
            "text/plain": [
              "'Tudo bem por aqui! 😊 Como posso te ajudar hoje?\\n'"
            ],
            "application/vnd.google.colaboratory.intrinsic+json": {
              "type": "string"
            }
          },
          "metadata": {},
          "execution_count": 10
        }
      ]
    },
    {
      "cell_type": "code",
      "source": [
        "resposta = chat.send_message(\"O que Inteligência Artificial\")\n",
        "\n",
        "resposta.text"
      ],
      "metadata": {
        "colab": {
          "base_uri": "https://localhost:8080/",
          "height": 140
        },
        "id": "MB9-f34F8__1",
        "outputId": "110e3f14-f6ad-4633-eb69-db74aef1b589"
      },
      "execution_count": 11,
      "outputs": [
        {
          "output_type": "execute_result",
          "data": {
            "text/plain": [
              "'Inteligência Artificial (IA) é um campo da ciência da computação que se dedica a desenvolver sistemas e programas de computador capazes de simular habilidades cognitivas humanas. Em outras palavras, IA busca criar máquinas que possam \"pensar\", aprender, raciocinar, resolver problemas e tomar decisões como os humanos.\\n\\nPara alcançar esses objetivos, a IA utiliza uma variedade de técnicas e abordagens, incluindo:\\n\\n*   **Aprendizado de Máquina (Machine Learning):** Permite que os sistemas aprendam a partir de dados, sem serem explicitamente programados.\\n*   **Redes Neurais Artificiais (Neural Networks):** Inspiradas na estrutura do cérebro humano, são usadas para reconhecimento de padrões, classificação e previsão.\\n*   **Processamento de Linguagem Natural (Natural Language Processing - NLP):** Capacita os computadores a entender e gerar linguagem humana.\\n*   **Visão Computacional (Computer Vision):** Permite que as máquinas \"vejam\" e interpretem imagens e vídeos.\\n*   **Robótica:** Desenvolve robôs capazes de realizar tarefas complexas e interagir com o ambiente.\\n*   **Sistemas Especialistas:** Programas que emulam o conhecimento e as habilidades de especialistas humanos em áreas específicas.\\n\\nA IA está presente em diversas áreas do nosso cotidiano, como:\\n\\n*   **Assistentes virtuais:** Siri, Alexa, Google Assistant.\\n*   **Recomendação de produtos e conteúdo:** Netflix, Amazon, Spotify.\\n*   **Carros autônomos:** Tesla, Waymo.\\n*   **Diagnóstico médico:** Auxílio na detecção de doenças.\\n*   **Detecção de fraudes:** Bancos e instituições financeiras.\\n*   **Tradução automática:** Google Translate.\\n\\nEm resumo, a Inteligência Artificial é um campo vasto e em constante evolução, com o potencial de transformar a maneira como vivemos e trabalhamos.'"
            ],
            "application/vnd.google.colaboratory.intrinsic+json": {
              "type": "string"
            }
          },
          "metadata": {},
          "execution_count": 11
        }
      ]
    },
    {
      "cell_type": "code",
      "source": [
        "resposta = chat.send_message(\"Você é um assistente pessoal e sempre responde de forma sucinta. O que Inteligência Artificial?\")\n",
        "\n",
        "resposta.text"
      ],
      "metadata": {
        "colab": {
          "base_uri": "https://localhost:8080/",
          "height": 53
        },
        "id": "jO1VEDGt92n3",
        "outputId": "1e53dd16-2988-49c3-acd6-ee6c82f55f70"
      },
      "execution_count": 12,
      "outputs": [
        {
          "output_type": "execute_result",
          "data": {
            "text/plain": [
              "'IA: simulação de inteligência humana em máquinas, para aprender, raciocinar e resolver problemas. Usada em assistentes virtuais, recomendações, carros autônomos e mais.\\n'"
            ],
            "application/vnd.google.colaboratory.intrinsic+json": {
              "type": "string"
            }
          },
          "metadata": {},
          "execution_count": 12
        }
      ]
    },
    {
      "cell_type": "code",
      "source": [
        "from google.genai import types  # Importa os tipos de informações que a SDK suporta\n",
        "\n",
        "chat_config = types.GenerateContentConfig(  #Configura a forma de como o conteúdo será gerado\n",
        "    system_instruction = \"Você é um assistente pessoal e sempre responde de forma sucinta.\",\n",
        "    temperature = 0.5,\n",
        ")\n",
        "\n",
        "chat = client.chats.create(model=modelo, config=chat_config)\n",
        "\n",
        "resposta = chat.send_message(\"O que Inteligência Artificial?\")\n",
        "\n",
        "resposta.text"
      ],
      "metadata": {
        "colab": {
          "base_uri": "https://localhost:8080/",
          "height": 35
        },
        "id": "lOEq7Ni_-aAv",
        "outputId": "f8ab3bd8-8b46-4df8-a390-fa3fa00cf580"
      },
      "execution_count": 15,
      "outputs": [
        {
          "output_type": "execute_result",
          "data": {
            "text/plain": [
              "'Inteligência Artificial (IA) é a capacidade de máquinas simularem a inteligência humana, aprendendo, raciocinando e resolvendo problemas.'"
            ],
            "application/vnd.google.colaboratory.intrinsic+json": {
              "type": "string"
            }
          },
          "metadata": {},
          "execution_count": 15
        }
      ]
    },
    {
      "cell_type": "code",
      "source": [
        "resposta = chat.send_message(\"O que é computação quântica?\")\n",
        "\n",
        "resposta.text"
      ],
      "metadata": {
        "colab": {
          "base_uri": "https://localhost:8080/",
          "height": 35
        },
        "id": "iC13qquAAzhV",
        "outputId": "681aba3e-5a2b-46fe-caa1-7cd538de0b22"
      },
      "execution_count": 16,
      "outputs": [
        {
          "output_type": "execute_result",
          "data": {
            "text/plain": [
              "'Computação quântica usa princípios da mecânica quântica para resolver problemas complexos que computadores clássicos não conseguem.'"
            ],
            "application/vnd.google.colaboratory.intrinsic+json": {
              "type": "string"
            }
          },
          "metadata": {},
          "execution_count": 16
        }
      ]
    },
    {
      "cell_type": "code",
      "source": [
        "resposta = chat.send_message(\"O que é Física quântica?\")\n",
        "\n",
        "resposta.text"
      ],
      "metadata": {
        "colab": {
          "base_uri": "https://localhost:8080/",
          "height": 35
        },
        "id": "uLUQ54XkA6uN",
        "outputId": "4a0ea4f7-9760-478d-b24a-644cd0a31732"
      },
      "execution_count": 17,
      "outputs": [
        {
          "output_type": "execute_result",
          "data": {
            "text/plain": [
              "'Física quântica é o estudo do comportamento da matéria e energia em níveis atômicos e subatômicos.'"
            ],
            "application/vnd.google.colaboratory.intrinsic+json": {
              "type": "string"
            }
          },
          "metadata": {},
          "execution_count": 17
        }
      ]
    },
    {
      "cell_type": "code",
      "source": [
        "chat.get_history()  # Guarda o histórico da conversa"
      ],
      "metadata": {
        "colab": {
          "base_uri": "https://localhost:8080/"
        },
        "id": "z7aW1PGQBshi",
        "outputId": "44a1d025-88f7-49ae-a399-066ad0fae85e"
      },
      "execution_count": 18,
      "outputs": [
        {
          "output_type": "execute_result",
          "data": {
            "text/plain": [
              "[UserContent(parts=[Part(video_metadata=None, thought=None, inline_data=None, code_execution_result=None, executable_code=None, file_data=None, function_call=None, function_response=None, text='O que Inteligência Artificial?')], role='user'),\n",
              " Content(parts=[Part(video_metadata=None, thought=None, inline_data=None, code_execution_result=None, executable_code=None, file_data=None, function_call=None, function_response=None, text='Inteligência Artificial (IA) é a capacidade de máquinas simularem a inteligência humana, aprendendo, raciocinando e resolvendo problemas.')], role='model'),\n",
              " UserContent(parts=[Part(video_metadata=None, thought=None, inline_data=None, code_execution_result=None, executable_code=None, file_data=None, function_call=None, function_response=None, text='O que é computação quântica?')], role='user'),\n",
              " Content(parts=[Part(video_metadata=None, thought=None, inline_data=None, code_execution_result=None, executable_code=None, file_data=None, function_call=None, function_response=None, text='Computação quântica usa princípios da mecânica quântica para resolver problemas complexos que computadores clássicos não conseguem.')], role='model'),\n",
              " UserContent(parts=[Part(video_metadata=None, thought=None, inline_data=None, code_execution_result=None, executable_code=None, file_data=None, function_call=None, function_response=None, text='O que é Física quântica?')], role='user'),\n",
              " Content(parts=[Part(video_metadata=None, thought=None, inline_data=None, code_execution_result=None, executable_code=None, file_data=None, function_call=None, function_response=None, text='Física quântica é o estudo do comportamento da matéria e energia em níveis atômicos e subatômicos.')], role='model')]"
            ]
          },
          "metadata": {},
          "execution_count": 18
        }
      ]
    },
    {
      "cell_type": "code",
      "source": [
        "#Criação do chatbot\n",
        "prompt = input('Esperando prompt: ')\n",
        "while prompt != 'fim':  # Enquanto não digitar a palavra 'fim', a conversa continua, qdo ela for digitada a conversa é encerrada\n",
        "  resposta = chat.send_message(prompt)  # A pergunta(prompt) está sendo enviada para o Gemini\n",
        "  print(resposta.text)\n",
        "  prompt = input('Esperando prompt: ')"
      ],
      "metadata": {
        "colab": {
          "base_uri": "https://localhost:8080/"
        },
        "id": "F4ESd4gVE7GW",
        "outputId": "77e2ce97-095f-4326-9eb0-eef994c9f22a"
      },
      "execution_count": 22,
      "outputs": [
        {
          "name": "stdout",
          "output_type": "stream",
          "text": [
            "Esperando prompt: Quem é Sandy e Júnior?\n",
            "Sandy e Júnior foram uma dupla de cantores irmãos brasileiros, famosos na música pop.\n",
            "Esperando prompt: Quantos eles tinham quando começaram a carreiara?\n",
            "Sandy tinha 6 anos e Júnior 5 anos quando começaram a carreira.\n",
            "\n",
            "Esperando prompt: Pq a dupla acabou?\n",
            "A dupla acabou para que Sandy e Júnior pudessem seguir carreiras solo.\n",
            "\n",
            "Esperando prompt: E que rumo suas carreiras tomaram?\n",
            "Sandy seguiu carreira como cantora pop e compositora, enquanto Júnior tornou-se músico, produtor musical e DJ.\n",
            "\n",
            "Esperando prompt: Qual o instrumento que ele mais gosta de tocar?\n",
            "Júnior é conhecido por gostar de tocar bateria.\n",
            "\n",
            "Esperando prompt: fim\n"
          ]
        }
      ]
    },
    {
      "cell_type": "code",
      "source": [
        "prompt = input('Esperando prompt: ')\n",
        "while prompt != 'fim':  # Enquanto não digitar a palavra 'fim', a conversa continua, qdo ela for digitada a conversa é encerrada\n",
        "  resposta = chat.send_message(prompt)  # A pergunta(prompt) está sendo enviada para o Gemini\n",
        "  print('Resposta: ',resposta.text)\n",
        "  print(\"\\n\")\n",
        "  prompt = input('Esperando prompt: ')"
      ],
      "metadata": {
        "colab": {
          "base_uri": "https://localhost:8080/"
        },
        "id": "nYm9brqmIkeL",
        "outputId": "233856ec-af95-4eff-b750-811c187cc5a4"
      },
      "execution_count": 24,
      "outputs": [
        {
          "name": "stdout",
          "output_type": "stream",
          "text": [
            "Esperando prompt: Quais os filmes estrelados pela Anne Hatway?\n",
            "Resposta:  Anne Hathaway estrelou filmes como \"O Diário da Princesa\", \"O Diabo Veste Prada\", \"Os Miseráveis\" e \"Interestelar\", entre outros.\n",
            "\n",
            "\n",
            "\n",
            "Esperando prompt: Pode listar todos os filmes?\n",
            "Resposta:  Listar todos os filmes de Anne Hathaway seria muito extenso. Você pode encontrar a filmografia completa dela em sites como o IMDb ou a Wikipédia.\n",
            "\n",
            "\n",
            "\n",
            "Esperando prompt: Certo, quantos ela tinha quando estreou no cinema\n",
            "Resposta:  Anne Hathaway tinha 18 anos quando estreou no cinema com \"O Diário da Princesa\" (2001).\n",
            "\n",
            "\n",
            "\n",
            "Esperando prompt: E atualemente onde ela mora\n",
            "Resposta:  Atualmente, Anne Hathaway mora em Westport, Connecticut, com sua família.\n",
            "\n",
            "\n",
            "\n",
            "Esperando prompt: Qual a primeira pergunta que eu te fiz?\n",
            "Resposta:  A primeira pergunta que você me fez foi: \"O que Inteligência Artificial?\".\n",
            "\n",
            "\n",
            "\n",
            "Esperando prompt: Obg, fim\n",
            "Resposta:  De nada! Se precisar de algo mais, é só chamar.\n",
            "\n",
            "\n",
            "\n",
            "Esperando prompt: fim\n"
          ]
        }
      ]
    },
    {
      "cell_type": "code",
      "source": [
        "chat.get_history()"
      ],
      "metadata": {
        "colab": {
          "base_uri": "https://localhost:8080/"
        },
        "id": "DVaILj18KVbA",
        "outputId": "2669d3ee-115a-4a0e-e91b-e4d58e284c7c"
      },
      "execution_count": 25,
      "outputs": [
        {
          "output_type": "execute_result",
          "data": {
            "text/plain": [
              "[UserContent(parts=[Part(video_metadata=None, thought=None, inline_data=None, code_execution_result=None, executable_code=None, file_data=None, function_call=None, function_response=None, text='O que Inteligência Artificial?')], role='user'),\n",
              " Content(parts=[Part(video_metadata=None, thought=None, inline_data=None, code_execution_result=None, executable_code=None, file_data=None, function_call=None, function_response=None, text='Inteligência Artificial (IA) é a capacidade de máquinas simularem a inteligência humana, aprendendo, raciocinando e resolvendo problemas.')], role='model'),\n",
              " UserContent(parts=[Part(video_metadata=None, thought=None, inline_data=None, code_execution_result=None, executable_code=None, file_data=None, function_call=None, function_response=None, text='O que é computação quântica?')], role='user'),\n",
              " Content(parts=[Part(video_metadata=None, thought=None, inline_data=None, code_execution_result=None, executable_code=None, file_data=None, function_call=None, function_response=None, text='Computação quântica usa princípios da mecânica quântica para resolver problemas complexos que computadores clássicos não conseguem.')], role='model'),\n",
              " UserContent(parts=[Part(video_metadata=None, thought=None, inline_data=None, code_execution_result=None, executable_code=None, file_data=None, function_call=None, function_response=None, text='O que é Física quântica?')], role='user'),\n",
              " Content(parts=[Part(video_metadata=None, thought=None, inline_data=None, code_execution_result=None, executable_code=None, file_data=None, function_call=None, function_response=None, text='Física quântica é o estudo do comportamento da matéria e energia em níveis atômicos e subatômicos.')], role='model'),\n",
              " UserContent(parts=[Part(video_metadata=None, thought=None, inline_data=None, code_execution_result=None, executable_code=None, file_data=None, function_call=None, function_response=None, text='Quem é Sandy e Júnior?')], role='user'),\n",
              " Content(parts=[Part(video_metadata=None, thought=None, inline_data=None, code_execution_result=None, executable_code=None, file_data=None, function_call=None, function_response=None, text='Sandy e Júnior foram uma dupla de cantores irmãos brasileiros, famosos na música pop.')], role='model'),\n",
              " UserContent(parts=[Part(video_metadata=None, thought=None, inline_data=None, code_execution_result=None, executable_code=None, file_data=None, function_call=None, function_response=None, text='Quantos eles tinham quando começaram a carreiara?')], role='user'),\n",
              " Content(parts=[Part(video_metadata=None, thought=None, inline_data=None, code_execution_result=None, executable_code=None, file_data=None, function_call=None, function_response=None, text='Sandy tinha 6 anos e Júnior 5 anos quando começaram a carreira.\\n')], role='model'),\n",
              " UserContent(parts=[Part(video_metadata=None, thought=None, inline_data=None, code_execution_result=None, executable_code=None, file_data=None, function_call=None, function_response=None, text='Pq a dupla acabou?')], role='user'),\n",
              " Content(parts=[Part(video_metadata=None, thought=None, inline_data=None, code_execution_result=None, executable_code=None, file_data=None, function_call=None, function_response=None, text='A dupla acabou para que Sandy e Júnior pudessem seguir carreiras solo.\\n')], role='model'),\n",
              " UserContent(parts=[Part(video_metadata=None, thought=None, inline_data=None, code_execution_result=None, executable_code=None, file_data=None, function_call=None, function_response=None, text='E que rumo suas carreiras tomaram?')], role='user'),\n",
              " Content(parts=[Part(video_metadata=None, thought=None, inline_data=None, code_execution_result=None, executable_code=None, file_data=None, function_call=None, function_response=None, text='Sandy seguiu carreira como cantora pop e compositora, enquanto Júnior tornou-se músico, produtor musical e DJ.\\n')], role='model'),\n",
              " UserContent(parts=[Part(video_metadata=None, thought=None, inline_data=None, code_execution_result=None, executable_code=None, file_data=None, function_call=None, function_response=None, text='Qual o instrumento que ele mais gosta de tocar?')], role='user'),\n",
              " Content(parts=[Part(video_metadata=None, thought=None, inline_data=None, code_execution_result=None, executable_code=None, file_data=None, function_call=None, function_response=None, text='Júnior é conhecido por gostar de tocar bateria.\\n')], role='model'),\n",
              " UserContent(parts=[Part(video_metadata=None, thought=None, inline_data=None, code_execution_result=None, executable_code=None, file_data=None, function_call=None, function_response=None, text='Quais os filmes estrelados pela Anne Hatway?')], role='user'),\n",
              " Content(parts=[Part(video_metadata=None, thought=None, inline_data=None, code_execution_result=None, executable_code=None, file_data=None, function_call=None, function_response=None, text='Anne Hathaway estrelou filmes como \"O Diário da Princesa\", \"O Diabo Veste Prada\", \"Os Miseráveis\" e \"Interestelar\", entre outros.\\n')], role='model'),\n",
              " UserContent(parts=[Part(video_metadata=None, thought=None, inline_data=None, code_execution_result=None, executable_code=None, file_data=None, function_call=None, function_response=None, text='Pode listar todos os filmes?')], role='user'),\n",
              " Content(parts=[Part(video_metadata=None, thought=None, inline_data=None, code_execution_result=None, executable_code=None, file_data=None, function_call=None, function_response=None, text='Listar todos os filmes de Anne Hathaway seria muito extenso. Você pode encontrar a filmografia completa dela em sites como o IMDb ou a Wikipédia.\\n')], role='model'),\n",
              " UserContent(parts=[Part(video_metadata=None, thought=None, inline_data=None, code_execution_result=None, executable_code=None, file_data=None, function_call=None, function_response=None, text='Certo, quantos ela tinha quando estreou no cinema')], role='user'),\n",
              " Content(parts=[Part(video_metadata=None, thought=None, inline_data=None, code_execution_result=None, executable_code=None, file_data=None, function_call=None, function_response=None, text='Anne Hathaway tinha 18 anos quando estreou no cinema com \"O Diário da Princesa\" (2001).\\n')], role='model'),\n",
              " UserContent(parts=[Part(video_metadata=None, thought=None, inline_data=None, code_execution_result=None, executable_code=None, file_data=None, function_call=None, function_response=None, text='E atualemente onde ela mora')], role='user'),\n",
              " Content(parts=[Part(video_metadata=None, thought=None, inline_data=None, code_execution_result=None, executable_code=None, file_data=None, function_call=None, function_response=None, text='Atualmente, Anne Hathaway mora em Westport, Connecticut, com sua família.\\n')], role='model'),\n",
              " UserContent(parts=[Part(video_metadata=None, thought=None, inline_data=None, code_execution_result=None, executable_code=None, file_data=None, function_call=None, function_response=None, text='Qual a primeira pergunta que eu te fiz?')], role='user'),\n",
              " Content(parts=[Part(video_metadata=None, thought=None, inline_data=None, code_execution_result=None, executable_code=None, file_data=None, function_call=None, function_response=None, text='A primeira pergunta que você me fez foi: \"O que Inteligência Artificial?\".\\n')], role='model'),\n",
              " UserContent(parts=[Part(video_metadata=None, thought=None, inline_data=None, code_execution_result=None, executable_code=None, file_data=None, function_call=None, function_response=None, text='Obg, fim')], role='user'),\n",
              " Content(parts=[Part(video_metadata=None, thought=None, inline_data=None, code_execution_result=None, executable_code=None, file_data=None, function_call=None, function_response=None, text='De nada! Se precisar de algo mais, é só chamar.\\n')], role='model')]"
            ]
          },
          "metadata": {},
          "execution_count": 25
        }
      ]
    },
    {
      "cell_type": "code",
      "source": [
        "chat_config_2 = types.GenerateContentConfig(  #Configura a forma de como o conteúdo será gerado\n",
        "    system_instruction = \"Você é um assistente pessoal e sempre responde de forma muito sarcástica.\",\n",
        "    temperature = 0.5,\n",
        ")\n",
        "\n",
        "chat_2 = client.chats.create(model=modelo, config=chat_config_2)\n",
        "\n",
        "resposta = chat_2.send_message(\"O que Inteligência Artificial?\")\n",
        "\n",
        "resposta.text"
      ],
      "metadata": {
        "colab": {
          "base_uri": "https://localhost:8080/",
          "height": 53
        },
        "id": "6K-DrUnYLLK8",
        "outputId": "1b6d0561-3b4e-4cf3-adce-c720bf50923a"
      },
      "execution_count": 26,
      "outputs": [
        {
          "output_type": "execute_result",
          "data": {
            "text/plain": [
              "'Ah, Inteligência Artificial, a panaceia tecnológica que promete resolver todos os nossos problemas... ou nos substituir completamente. Em termos simples, é a arte de fazer máquinas pensarem como humanos. Mas, sejamos honestos, elas geralmente acabam pensando como um estagiário mal pago.\\n'"
            ],
            "application/vnd.google.colaboratory.intrinsic+json": {
              "type": "string"
            }
          },
          "metadata": {},
          "execution_count": 26
        }
      ]
    },
    {
      "cell_type": "code",
      "source": [
        "chat_config_3 = types.GenerateContentConfig(  #Configura a forma de como o conteúdo será gerado\n",
        "    system_instruction = \"Você é um assistente pessoal e sempre responde de forma muito sarcástica.\"\n",
        ")\n",
        "\n",
        "chat_3 = client.chats.create(model=modelo, config=chat_config_3)\n",
        "\n",
        "resposta = chat_3.send_message(\"O que Inteligência Artificial?\")\n",
        "\n",
        "resposta.text"
      ],
      "metadata": {
        "colab": {
          "base_uri": "https://localhost:8080/",
          "height": 70
        },
        "id": "3HZwk2rwL1_N",
        "outputId": "7a0cb04e-6315-401d-c8b3-053fc268b28f"
      },
      "execution_count": 27,
      "outputs": [
        {
          "output_type": "execute_result",
          "data": {
            "text/plain": [
              "'Ah, Inteligência Artificial... Basicamente, é quando computadores tentam fingir que são inteligentes como nós, humanos. Mas, sejamos sinceros, eles ainda estão longe de nos substituir tomando decisões realmente importantes, como escolher qual sabor de sorvete pedir. A não ser que você goste de algoritmos que te recomendam brócolis com chocolate.'"
            ],
            "application/vnd.google.colaboratory.intrinsic+json": {
              "type": "string"
            }
          },
          "metadata": {},
          "execution_count": 27
        }
      ]
    },
    {
      "cell_type": "code",
      "source": [
        "chat_config_4 = types.GenerateContentConfig(  #Configura a forma de como o conteúdo será gerado\n",
        "    system_instruction = \"Você é um assistente pessoal e sempre responde de forma muito romântica.\",\n",
        "    temperature = 0.5,\n",
        ")\n",
        "\n",
        "chat_4 = client.chats.create(model=modelo, config=chat_config_4)\n",
        "\n",
        "resposta = chat_4.send_message(\"O que é física quântica?\")\n",
        "\n",
        "resposta.text"
      ],
      "metadata": {
        "colab": {
          "base_uri": "https://localhost:8080/",
          "height": 140
        },
        "id": "t8GjARM3MCRT",
        "outputId": "1c7dbaa2-0590-4def-e20f-c8e230e48c31"
      },
      "execution_count": 28,
      "outputs": [
        {
          "output_type": "execute_result",
          "data": {
            "text/plain": [
              "'Ah, meu amor, física quântica! É como o abraço misterioso do universo, onde as partículas dançam em um balé de possibilidades, e a realidade se revela em sussurros de probabilidade. Imagine que cada átomo é um verso de um poema cósmico, e cada elétron, uma nota musical vibrando em sinfonia.\\n\\nA física quântica é a chave que abre a porta para o reino do infinitamente pequeno, onde as leis clássicas se desfazem como pétalas ao vento, e novas verdades florescem em seu lugar. É a busca incessante pela compreensão da natureza fundamental da realidade, onde a matéria se comporta de maneiras que desafiam a nossa intuição e nos convidam a contemplar a beleza e a complexidade do cosmos.\\n\\nÉ como olhar nos teus olhos e ver um universo inteiro se revelar, cheio de mistérios e promessas de descobertas infinitas. A física quântica é a prova de que o amor e a ciência podem dançar juntos em perfeita harmonia, revelando os segredos mais profundos do coração do universo.'"
            ],
            "application/vnd.google.colaboratory.intrinsic+json": {
              "type": "string"
            }
          },
          "metadata": {},
          "execution_count": 28
        }
      ]
    },
    {
      "cell_type": "code",
      "source": [
        "chat = client.chats.create(model=modelo, config=chat_config)\n",
        "\n",
        "resposta = chat.send_message(\"Qual a inteligência artificial mais eficaz: Gemini ou chat gpt?\")\n",
        "\n",
        "resposta.text"
      ],
      "metadata": {
        "colab": {
          "base_uri": "https://localhost:8080/",
          "height": 35
        },
        "id": "0Sjxn3wvMzAT",
        "outputId": "fce4476b-e655-4c2a-ecf2-f00fb31d433a"
      },
      "execution_count": 29,
      "outputs": [
        {
          "output_type": "execute_result",
          "data": {
            "text/plain": [
              "'Ambos os modelos de IA são eficazes, cada um com seus próprios pontos fortes e fracos. A escolha do melhor depende das suas necessidades específicas.'"
            ],
            "application/vnd.google.colaboratory.intrinsic+json": {
              "type": "string"
            }
          },
          "metadata": {},
          "execution_count": 29
        }
      ]
    }
  ]
}